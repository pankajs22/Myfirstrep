{
 "cells": [
  {
   "cell_type": "code",
   "execution_count": 1,
   "id": "64918cef-f3b3-4d36-b2ed-c6b5ab6e0d30",
   "metadata": {},
   "outputs": [
    {
     "name": "stdout",
     "output_type": "stream",
     "text": [
      "my name is pankaj\n"
     ]
    }
   ],
   "source": [
    "print(\"my name is pankaj\")"
   ]
  },
  {
   "cell_type": "code",
   "execution_count": 4,
   "id": "3a73fccd-f0ff-4f37-93ca-ed899189d2c1",
   "metadata": {},
   "outputs": [
    {
     "name": "stdout",
     "output_type": "stream",
     "text": [
      "my name is pankaj\n"
     ]
    }
   ],
   "source": [
    "name = \"pankaj\"\n",
    "print(\"my name is\" +\" \"+ name)"
   ]
  },
  {
   "cell_type": "code",
   "execution_count": null,
   "id": "d1adb1b7-9bc9-4281-8b23-be64c3b5faae",
   "metadata": {},
   "outputs": [],
   "source": []
  }
 ],
 "metadata": {
  "kernelspec": {
   "display_name": "Python 3 (ipykernel)",
   "language": "python",
   "name": "python3"
  },
  "language_info": {
   "codemirror_mode": {
    "name": "ipython",
    "version": 3
   },
   "file_extension": ".py",
   "mimetype": "text/x-python",
   "name": "python",
   "nbconvert_exporter": "python",
   "pygments_lexer": "ipython3",
   "version": "3.9.12"
  }
 },
 "nbformat": 4,
 "nbformat_minor": 5
}
